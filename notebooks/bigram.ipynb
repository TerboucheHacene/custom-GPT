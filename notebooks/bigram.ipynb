{
 "cells": [
  {
   "cell_type": "code",
   "execution_count": 37,
   "metadata": {},
   "outputs": [],
   "source": [
    "import torch\n",
    "import torch.nn as nn\n",
    "import torch.nn.functional as F"
   ]
  },
  {
   "cell_type": "code",
   "execution_count": 2,
   "metadata": {},
   "outputs": [
    {
     "name": "stdout",
     "output_type": "stream",
     "text": [
      "--2023-03-13 10:45:10--  https://raw.githubusercontent.com/karpathy/char-rnn/master/data/tinyshakespeare/input.txt\n",
      "Resolving raw.githubusercontent.com (raw.githubusercontent.com)... 185.199.109.133, 185.199.108.133, 185.199.111.133, ...\n",
      "Connecting to raw.githubusercontent.com (raw.githubusercontent.com)|185.199.109.133|:443... connected.\n",
      "HTTP request sent, awaiting response... 200 OK\n",
      "Length: 1115394 (1,1M) [text/plain]\n",
      "Saving to: ‘input.txt’\n",
      "\n",
      "input.txt           100%[===================>]   1,06M  --.-KB/s    in 0,02s   \n",
      "\n",
      "2023-03-13 10:45:11 (56,2 MB/s) - ‘input.txt’ saved [1115394/1115394]\n",
      "\n"
     ]
    }
   ],
   "source": [
    "# We always start with a dataset to train on. Let's download the tiny shakespeare dataset\n",
    "!wget https://raw.githubusercontent.com/karpathy/char-rnn/master/data/tinyshakespeare/input.txt"
   ]
  },
  {
   "cell_type": "code",
   "execution_count": 23,
   "metadata": {},
   "outputs": [],
   "source": [
    "# open the text file and read in data as `text`\n",
    "with open('input.txt', 'r', encoding=\"utf-8\") as f:\n",
    "    text = f.read()\n"
   ]
  },
  {
   "cell_type": "code",
   "execution_count": 24,
   "metadata": {},
   "outputs": [
    {
     "name": "stdout",
     "output_type": "stream",
     "text": [
      "First Citizen:\n",
      "Before we proceed any further, hear me speak.\n",
      "\n",
      "All:\n",
      "Speak, speak.\n",
      "\n",
      "First Citizen:\n",
      "You\n"
     ]
    }
   ],
   "source": [
    "print(text[:100])"
   ]
  },
  {
   "cell_type": "code",
   "execution_count": 25,
   "metadata": {},
   "outputs": [
    {
     "name": "stdout",
     "output_type": "stream",
     "text": [
      "length of the text is 1115394 characters\n"
     ]
    }
   ],
   "source": [
    "print(\"length of the text is {} characters\".format(len(text)))"
   ]
  },
  {
   "cell_type": "code",
   "execution_count": 26,
   "metadata": {},
   "outputs": [
    {
     "name": "stdout",
     "output_type": "stream",
     "text": [
      "There are 65 unique characters in the file\n",
      "['\\n', ' ', '!', '$', '&', \"'\", ',', '-', '.', '3', ':', ';', '?', 'A', 'B', 'C', 'D', 'E', 'F', 'G', 'H', 'I', 'J', 'K', 'L', 'M', 'N', 'O', 'P', 'Q', 'R', 'S', 'T', 'U', 'V', 'W', 'X', 'Y', 'Z', 'a', 'b', 'c', 'd', 'e', 'f', 'g', 'h', 'i', 'j', 'k', 'l', 'm', 'n', 'o', 'p', 'q', 'r', 's', 't', 'u', 'v', 'w', 'x', 'y', 'z']\n"
     ]
    }
   ],
   "source": [
    "# get the unique characters in the file\n",
    "vocab = sorted(list(set(text)))\n",
    "vocab_size = len(vocab)\n",
    "\n",
    "print(\"There are {} unique characters in the file\".format(vocab_size))\n",
    "print(vocab)"
   ]
  },
  {
   "cell_type": "code",
   "execution_count": 27,
   "metadata": {},
   "outputs": [
    {
     "name": "stdout",
     "output_type": "stream",
     "text": [
      "[46, 47, 47, 1, 58, 46, 43, 56, 43]\n",
      "hii there\n"
     ]
    }
   ],
   "source": [
    "# create a mapping from unique characters to indices\n",
    "char2idx = {u:i for i, u in enumerate(vocab)}\n",
    "idx2char = {i:u for i, u in enumerate(vocab)}\n",
    "\n",
    "encode = lambda x: [char2idx[c] for c in x]\n",
    "decode = lambda x: ''.join([idx2char[c] for c in x])\n",
    "\n",
    "print(encode(\"hii there\"))\n",
    "print(decode(encode(\"hii there\")))"
   ]
  },
  {
   "cell_type": "code",
   "execution_count": 28,
   "metadata": {},
   "outputs": [
    {
     "name": "stdout",
     "output_type": "stream",
     "text": [
      "torch.Size([1115394])\n",
      "tensor([18, 47, 56, 57, 58,  1, 15, 47, 58, 47, 64, 43, 52, 10,  0, 14, 43, 44,\n",
      "        53, 56, 43,  1, 61, 43,  1, 54, 56, 53, 41, 43, 43, 42,  1, 39, 52, 63,\n",
      "         1, 44, 59, 56, 58, 46, 43, 56,  6,  1, 46, 43, 39, 56,  1, 51, 43,  1,\n",
      "        57, 54, 43, 39, 49,  8,  0,  0, 13, 50, 50, 10,  0, 31, 54, 43, 39, 49,\n",
      "         6,  1, 57, 54, 43, 39, 49,  8,  0,  0, 18, 47, 56, 57, 58,  1, 15, 47,\n",
      "        58, 47, 64, 43, 52, 10,  0, 37, 53, 59])\n"
     ]
    }
   ],
   "source": [
    "# encode the text\n",
    "encoded_text = encode(text)\n",
    "data = torch.tensor(encoded_text, dtype=torch.long)\n",
    "print(data.shape)\n",
    "print(data[:100])"
   ]
  },
  {
   "cell_type": "code",
   "execution_count": 29,
   "metadata": {},
   "outputs": [],
   "source": [
    "# split the dataset into train and test\n",
    "train_size = int(0.9 * len(data))\n",
    "train_data = data[:train_size]\n",
    "val_data = data[train_size:]"
   ]
  },
  {
   "cell_type": "code",
   "execution_count": 30,
   "metadata": {},
   "outputs": [
    {
     "name": "stdout",
     "output_type": "stream",
     "text": [
      "torch.Size([1003854])\n",
      "torch.Size([111540])\n"
     ]
    }
   ],
   "source": [
    "print(train_data.shape)\n",
    "print(val_data.shape)"
   ]
  },
  {
   "cell_type": "code",
   "execution_count": 31,
   "metadata": {},
   "outputs": [
    {
     "data": {
      "text/plain": [
       "tensor([18, 47, 56, 57, 58,  1, 15, 47, 58])"
      ]
     },
     "execution_count": 31,
     "metadata": {},
     "output_type": "execute_result"
    }
   ],
   "source": [
    "block_size = 8\n",
    "train_data[:block_size+1]"
   ]
  },
  {
   "cell_type": "code",
   "execution_count": 32,
   "metadata": {},
   "outputs": [
    {
     "name": "stdout",
     "output_type": "stream",
     "text": [
      "when context is: tensor([18]), target is: 47\n",
      "when context is: tensor([18, 47]), target is: 56\n",
      "when context is: tensor([18, 47, 56]), target is: 57\n",
      "when context is: tensor([18, 47, 56, 57]), target is: 58\n",
      "when context is: tensor([18, 47, 56, 57, 58]), target is: 1\n",
      "when context is: tensor([18, 47, 56, 57, 58,  1]), target is: 15\n",
      "when context is: tensor([18, 47, 56, 57, 58,  1, 15]), target is: 47\n",
      "when context is: tensor([18, 47, 56, 57, 58,  1, 15, 47]), target is: 58\n"
     ]
    }
   ],
   "source": [
    "# sample a sequence of length `block_size` from the dataset\n",
    "x = train_data[:block_size]\n",
    "y = train_data[1:block_size+1]\n",
    "\n",
    "for t in range(block_size):\n",
    "    context = x[:t+1]\n",
    "    target = y[t]\n",
    "    print(f\"when context is: {context}, target is: {target}\")"
   ]
  },
  {
   "cell_type": "code",
   "execution_count": 35,
   "metadata": {},
   "outputs": [],
   "source": [
    "torch.manual_seed(1337)\n",
    "batch_size = 4\n",
    "block_size = 8\n",
    "\n",
    "def get_batch(split):\n",
    "    data = train_data if split == 'train' else val_data\n",
    "    # randomly select the starting indices for the examples in the mini-batch\n",
    "    start_indices = torch.randint(len(data) - block_size, size=(batch_size,))\n",
    "    # select the contiguous sequences of tokens\n",
    "    x = torch.stack([data[i:i+block_size] for i in start_indices])\n",
    "    y = torch.stack([data[i+1:i+block_size+1] for i in start_indices])\n",
    "    return x, y"
   ]
  },
  {
   "cell_type": "code",
   "execution_count": 36,
   "metadata": {},
   "outputs": [
    {
     "name": "stdout",
     "output_type": "stream",
     "text": [
      "input shape:  torch.Size([4, 8])\n",
      "target shape:  torch.Size([4, 8])\n",
      "tensor([[24, 43, 58,  5, 57,  1, 46, 43],\n",
      "        [44, 53, 56,  1, 58, 46, 39, 58],\n",
      "        [52, 58,  1, 58, 46, 39, 58,  1],\n",
      "        [25, 17, 27, 10,  0, 21,  1, 54]])\n",
      "tensor([[43, 58,  5, 57,  1, 46, 43, 39],\n",
      "        [53, 56,  1, 58, 46, 39, 58,  1],\n",
      "        [58,  1, 58, 46, 39, 58,  1, 46],\n",
      "        [17, 27, 10,  0, 21,  1, 54, 39]])\n"
     ]
    }
   ],
   "source": [
    "xb, yb = get_batch('train')\n",
    "print(\"input shape: \", xb.shape)\n",
    "print(\"target shape: \", yb.shape)\n",
    "print(xb)\n",
    "print(yb)"
   ]
  },
  {
   "cell_type": "code",
   "execution_count": 61,
   "metadata": {},
   "outputs": [],
   "source": [
    "\n",
    "class BigramLanguageModel(nn.Module):\n",
    "\n",
    "    def __init__(self, vocab_size):\n",
    "        super().__init__()\n",
    "        self.vocab_size = vocab_size\n",
    "        self.emb = nn.Embedding(vocab_size, vocab_size)\n",
    "\n",
    "    def forward(self, idx, targets=None):\n",
    "\n",
    "        logits = self.emb(idx) # (B, T, C)\n",
    "\n",
    "        if targets is None:\n",
    "            loss = None\n",
    "        else:\n",
    "            logits = logits.view(-1, logits.shape[-1]) # (B * T, C)\n",
    "            targets = targets.view(-1) # (B * T)\n",
    "            loss  = F.cross_entropy(logits, targets)\n",
    "\n",
    "        return logits, loss\n",
    "    \n",
    "    def generate(self, idx, max_new_tokens):\n",
    "        for _ in range(max_new_tokens):\n",
    "            logits, _ = self(idx)\n",
    "            logits = logits[:, -1, :] # (B, C)\n",
    "            probs = F.softmax(logits, dim=-1)\n",
    "            new_idx = torch.multinomial(probs, num_samples=1)\n",
    "            idx = torch.cat([idx, new_idx], dim=1) # (B, T+1)\n",
    "        return idx\n"
   ]
  },
  {
   "cell_type": "code",
   "execution_count": 57,
   "metadata": {},
   "outputs": [
    {
     "name": "stdout",
     "output_type": "stream",
     "text": [
      "torch.Size([32, 65])\n",
      "tensor(4.8786, grad_fn=<NllLossBackward0>)\n"
     ]
    }
   ],
   "source": [
    "model = BigramLanguageModel(vocab_size)\n",
    "out, loss = model(xb, yb)\n",
    "print(out.shape)\n",
    "print(loss)"
   ]
  },
  {
   "cell_type": "code",
   "execution_count": 63,
   "metadata": {},
   "outputs": [
    {
     "name": "stdout",
     "output_type": "stream",
     "text": [
      "\n",
      "CpzlYaS CczdeC'aEHY,YzrzPGJU?YehOLi\n",
      "Cj\n",
      "CzoX$kUtSqAUU'zPyVJiG HTosttx;a!UVzyAnsz-imszPAkfya;:gU;RTNBG\n"
     ]
    }
   ],
   "source": [
    "torch.manual_seed(1337)\n",
    "idx = torch.zeros((1, 1), dtype=torch.long)\n",
    "generated = model.generate(idx, max_new_tokens=100)\n",
    "decoded = decode(generated[0].tolist())\n",
    "print(decoded)"
   ]
  },
  {
   "cell_type": "code",
   "execution_count": 64,
   "metadata": {},
   "outputs": [],
   "source": [
    "optimizer = torch.optim.AdamW(model.parameters(), lr=1e-3)"
   ]
  },
  {
   "cell_type": "code",
   "execution_count": 72,
   "metadata": {},
   "outputs": [
    {
     "name": "stdout",
     "output_type": "stream",
     "text": [
      "step: 0, loss: 2.472\n",
      "step: 100, loss: 2.584\n",
      "step: 200, loss: 2.516\n",
      "step: 300, loss: 2.442\n",
      "step: 400, loss: 2.520\n",
      "step: 500, loss: 2.423\n",
      "step: 600, loss: 2.418\n",
      "step: 700, loss: 2.440\n",
      "step: 800, loss: 2.449\n",
      "step: 900, loss: 2.427\n",
      "step: 1000, loss: 2.510\n",
      "step: 1100, loss: 2.479\n",
      "step: 1200, loss: 2.378\n",
      "step: 1300, loss: 2.490\n",
      "step: 1400, loss: 2.593\n",
      "step: 1500, loss: 2.407\n",
      "step: 1600, loss: 2.424\n",
      "step: 1700, loss: 2.426\n",
      "step: 1800, loss: 2.292\n",
      "step: 1900, loss: 2.653\n",
      "step: 2000, loss: 2.417\n",
      "step: 2100, loss: 2.582\n",
      "step: 2200, loss: 2.465\n",
      "step: 2300, loss: 2.328\n",
      "step: 2400, loss: 2.476\n",
      "step: 2500, loss: 2.277\n",
      "step: 2600, loss: 2.533\n",
      "step: 2700, loss: 2.396\n",
      "step: 2800, loss: 2.495\n",
      "step: 2900, loss: 2.360\n",
      "step: 3000, loss: 2.424\n",
      "step: 3100, loss: 2.544\n",
      "step: 3200, loss: 2.556\n",
      "step: 3300, loss: 2.485\n",
      "step: 3400, loss: 2.396\n",
      "step: 3500, loss: 2.366\n",
      "step: 3600, loss: 2.517\n",
      "step: 3700, loss: 2.367\n",
      "step: 3800, loss: 2.405\n",
      "step: 3900, loss: 2.415\n",
      "step: 4000, loss: 2.446\n",
      "step: 4100, loss: 2.455\n",
      "step: 4200, loss: 2.481\n",
      "step: 4300, loss: 2.445\n",
      "step: 4400, loss: 2.440\n",
      "step: 4500, loss: 2.538\n",
      "step: 4600, loss: 2.416\n",
      "step: 4700, loss: 2.405\n",
      "step: 4800, loss: 2.532\n",
      "step: 4900, loss: 2.504\n",
      "step: 5000, loss: 2.341\n",
      "step: 5100, loss: 2.451\n",
      "step: 5200, loss: 2.517\n",
      "step: 5300, loss: 2.542\n",
      "step: 5400, loss: 2.372\n",
      "step: 5500, loss: 2.482\n",
      "step: 5600, loss: 2.555\n",
      "step: 5700, loss: 2.509\n",
      "step: 5800, loss: 2.354\n",
      "step: 5900, loss: 2.466\n",
      "step: 6000, loss: 2.488\n",
      "step: 6100, loss: 2.355\n",
      "step: 6200, loss: 2.422\n",
      "step: 6300, loss: 2.461\n",
      "step: 6400, loss: 2.500\n",
      "step: 6500, loss: 2.521\n",
      "step: 6600, loss: 2.406\n",
      "step: 6700, loss: 2.454\n",
      "step: 6800, loss: 2.404\n",
      "step: 6900, loss: 2.591\n",
      "step: 7000, loss: 2.458\n",
      "step: 7100, loss: 2.465\n",
      "step: 7200, loss: 2.484\n",
      "step: 7300, loss: 2.424\n",
      "step: 7400, loss: 2.344\n",
      "step: 7500, loss: 2.248\n",
      "step: 7600, loss: 2.463\n",
      "step: 7700, loss: 2.569\n",
      "step: 7800, loss: 2.485\n",
      "step: 7900, loss: 2.551\n",
      "step: 8000, loss: 2.436\n",
      "step: 8100, loss: 2.402\n",
      "step: 8200, loss: 2.587\n",
      "step: 8300, loss: 2.460\n",
      "step: 8400, loss: 2.504\n",
      "step: 8500, loss: 2.282\n",
      "step: 8600, loss: 2.570\n",
      "step: 8700, loss: 2.480\n",
      "step: 8800, loss: 2.488\n",
      "step: 8900, loss: 2.468\n",
      "step: 9000, loss: 2.478\n",
      "step: 9100, loss: 2.397\n",
      "step: 9200, loss: 2.418\n",
      "step: 9300, loss: 2.462\n",
      "step: 9400, loss: 2.463\n",
      "step: 9500, loss: 2.456\n",
      "step: 9600, loss: 2.430\n",
      "step: 9700, loss: 2.442\n",
      "step: 9800, loss: 2.366\n",
      "step: 9900, loss: 2.441\n",
      "Training done!\n",
      "2.461909055709839\n"
     ]
    }
   ],
   "source": [
    "batch_size = 32\n",
    "for steps in range(10000):\n",
    "    xb, yb = get_batch('train')\n",
    "\n",
    "    logits, loss = model(xb, yb)\n",
    "    optimizer.zero_grad(set_to_none=True)\n",
    "    loss.backward()\n",
    "    optimizer.step()\n",
    "\n",
    "    if steps % 100 == 0:\n",
    "        print(f\"step: {steps}, loss: {loss.item():.3f}\")\n",
    "\n",
    "print(\"Training done!\")\n",
    "print(loss.item())   \n",
    "\n"
   ]
  },
  {
   "cell_type": "code",
   "execution_count": 73,
   "metadata": {},
   "outputs": [
    {
     "name": "stdout",
     "output_type": "stream",
     "text": [
      "\n",
      "Cars an tcede.\n",
      "Y in, lanoul-see waindonse ate t,-bee wist ic wsoster; bea yonsenimser se ay g pourancey mou ber s LI'sl tem'ls tofr?\n",
      "\n",
      "KESod, IAg thorvere nonifit deanche\n",
      "We trerath; shan ise pls tode ish rithoo bsin henghimblyondisotinoes selonsen l'se ph POUMAnome, ty V: gill.\n",
      "Shly a au a owe hotemanven.\n",
      "Y:\n",
      "HAnouro astroptong,\n",
      "Breavithiritoull howie ssu hathitious gh healol lemek'le. shily ss tiswo amanghen ivethe:\n",
      "IOf chawh if cloomace ifth reris r blithout yoe n,\n",
      "T:\n",
      "\n",
      "TIUSpl sur t kechug t, nt\n"
     ]
    }
   ],
   "source": [
    "torch.manual_seed(1337)\n",
    "idx = torch.zeros((1, 1), dtype=torch.long)\n",
    "generated = model.generate(idx, max_new_tokens=500)\n",
    "decoded = decode(generated[0].tolist())\n",
    "print(decoded)"
   ]
  },
  {
   "cell_type": "code",
   "execution_count": null,
   "metadata": {},
   "outputs": [],
   "source": []
  }
 ],
 "metadata": {
  "kernelspec": {
   "display_name": "custom-gpt-Tk935QP5-py3.8",
   "language": "python",
   "name": "python3"
  },
  "language_info": {
   "codemirror_mode": {
    "name": "ipython",
    "version": 3
   },
   "file_extension": ".py",
   "mimetype": "text/x-python",
   "name": "python",
   "nbconvert_exporter": "python",
   "pygments_lexer": "ipython3",
   "version": "3.8.10"
  },
  "orig_nbformat": 4,
  "vscode": {
   "interpreter": {
    "hash": "da9a02f2114bb34b6e5a69173261c43c025a755583f062e6032ad2723c04f924"
   }
  }
 },
 "nbformat": 4,
 "nbformat_minor": 2
}
